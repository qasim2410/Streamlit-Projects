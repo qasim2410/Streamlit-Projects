{
 "cells": [
  {
   "cell_type": "code",
   "execution_count": 1,
   "id": "3554430e-fb67-408b-a385-a1f6f8b3655b",
   "metadata": {},
   "outputs": [
    {
     "name": "stdout",
     "output_type": "stream",
     "text": [
      "\n",
      "--- Personal Library Manager ---\n",
      "1. Add Book\n",
      "2. Remove Book\n",
      "3. Search Book\n",
      "4. View All Books\n",
      "5. Show Statistics\n",
      "6. Save Library\n",
      "7. Load Library\n",
      "8. Exit\n"
     ]
    },
    {
     "name": "stdin",
     "output_type": "stream",
     "text": [
      "Enter your choice (1-8):  1\n",
      "Enter book title:  \"Atomic Habit\"\n",
      "Enter author:  James Clear\n",
      "Enter publication year:  October 16 2018\n",
      "Enter genre:  -\n",
      "Have you read it? (yes/no):  yes\n"
     ]
    },
    {
     "name": "stdout",
     "output_type": "stream",
     "text": [
      "Book added!\n",
      "\n",
      "--- Personal Library Manager ---\n",
      "1. Add Book\n",
      "2. Remove Book\n",
      "3. Search Book\n",
      "4. View All Books\n",
      "5. Show Statistics\n",
      "6. Save Library\n",
      "7. Load Library\n",
      "8. Exit\n"
     ]
    },
    {
     "name": "stdin",
     "output_type": "stream",
     "text": [
      "Enter your choice (1-8):  2\n",
      "Enter title of book to remove:  \"James Clear\"\n"
     ]
    },
    {
     "name": "stdout",
     "output_type": "stream",
     "text": [
      "Book not found.\n",
      "\n",
      "--- Personal Library Manager ---\n",
      "1. Add Book\n",
      "2. Remove Book\n",
      "3. Search Book\n",
      "4. View All Books\n",
      "5. Show Statistics\n",
      "6. Save Library\n",
      "7. Load Library\n",
      "8. Exit\n"
     ]
    },
    {
     "name": "stdin",
     "output_type": "stream",
     "text": [
      "Enter your choice (1-8):  3\n",
      "Enter title to search:  rich dad and poor dad\n"
     ]
    },
    {
     "name": "stdout",
     "output_type": "stream",
     "text": [
      "No books found with that title.\n",
      "\n",
      "--- Personal Library Manager ---\n",
      "1. Add Book\n",
      "2. Remove Book\n",
      "3. Search Book\n",
      "4. View All Books\n",
      "5. Show Statistics\n",
      "6. Save Library\n",
      "7. Load Library\n",
      "8. Exit\n"
     ]
    },
    {
     "name": "stdin",
     "output_type": "stream",
     "text": [
      "Enter your choice (1-8):  4\n"
     ]
    },
    {
     "name": "stdout",
     "output_type": "stream",
     "text": [
      "1. {'title': '\"Atomic Habit\"', 'author': 'James Clear', 'year': 'October 16 2018', 'genre': '-', 'read': True}\n",
      "\n",
      "--- Personal Library Manager ---\n",
      "1. Add Book\n",
      "2. Remove Book\n",
      "3. Search Book\n",
      "4. View All Books\n",
      "5. Show Statistics\n",
      "6. Save Library\n",
      "7. Load Library\n",
      "8. Exit\n"
     ]
    },
    {
     "name": "stdin",
     "output_type": "stream",
     "text": [
      "Enter your choice (1-8):  5\n"
     ]
    },
    {
     "name": "stdout",
     "output_type": "stream",
     "text": [
      "Total books: 1\n",
      "Books read: 1\n",
      "Books unread: 0\n",
      "\n",
      "--- Personal Library Manager ---\n",
      "1. Add Book\n",
      "2. Remove Book\n",
      "3. Search Book\n",
      "4. View All Books\n",
      "5. Show Statistics\n",
      "6. Save Library\n",
      "7. Load Library\n",
      "8. Exit\n"
     ]
    },
    {
     "name": "stdin",
     "output_type": "stream",
     "text": [
      "Enter your choice (1-8):  6\n"
     ]
    },
    {
     "name": "stdout",
     "output_type": "stream",
     "text": [
      "Library saved to file.\n",
      "\n",
      "--- Personal Library Manager ---\n",
      "1. Add Book\n",
      "2. Remove Book\n",
      "3. Search Book\n",
      "4. View All Books\n",
      "5. Show Statistics\n",
      "6. Save Library\n",
      "7. Load Library\n",
      "8. Exit\n"
     ]
    },
    {
     "name": "stdin",
     "output_type": "stream",
     "text": [
      "Enter your choice (1-8):  7\n"
     ]
    },
    {
     "name": "stdout",
     "output_type": "stream",
     "text": [
      "Library loaded from file.\n",
      "\n",
      "--- Personal Library Manager ---\n",
      "1. Add Book\n",
      "2. Remove Book\n",
      "3. Search Book\n",
      "4. View All Books\n",
      "5. Show Statistics\n",
      "6. Save Library\n",
      "7. Load Library\n",
      "8. Exit\n"
     ]
    },
    {
     "name": "stdin",
     "output_type": "stream",
     "text": [
      "Enter your choice (1-8):  8\n"
     ]
    },
    {
     "name": "stdout",
     "output_type": "stream",
     "text": [
      "Goodbye!\n"
     ]
    }
   ],
   "source": [
    "import json\n",
    "\n",
    "library = []\n",
    "\n",
    "def show_menu():\n",
    "    print(\"\\n--- Personal Library Manager ---\")\n",
    "    print(\"1. Add Book\")\n",
    "    print(\"2. Remove Book\")\n",
    "    print(\"3. Search Book\")\n",
    "    print(\"4. View All Books\")\n",
    "    print(\"5. Show Statistics\")\n",
    "    print(\"6. Save Library\")\n",
    "    print(\"7. Load Library\")\n",
    "    print(\"8. Exit\")\n",
    "\n",
    "def add_book():\n",
    "    title = input(\"Enter book title: \")\n",
    "    author = input(\"Enter author: \")\n",
    "    year = input(\"Enter publication year: \")\n",
    "    genre = input(\"Enter genre: \")\n",
    "    read = input(\"Have you read it? (yes/no): \").lower()\n",
    "\n",
    "    book = {\n",
    "        \"title\": title,\n",
    "        \"author\": author,\n",
    "        \"year\": year,\n",
    "        \"genre\": genre,\n",
    "        \"read\": read == \"yes\"\n",
    "    }\n",
    "    library.append(book)\n",
    "    print(\"Book added!\")\n",
    "\n",
    "def remove_book():\n",
    "    title = input(\"Enter title of book to remove: \")\n",
    "    for book in library:\n",
    "        if book[\"title\"].lower() == title.lower():\n",
    "            library.remove(book)\n",
    "            print(\"Book removed!\")\n",
    "            return\n",
    "    print(\"Book not found.\")\n",
    "\n",
    "def search_book():\n",
    "    title = input(\"Enter title to search: \")\n",
    "    found = False\n",
    "    for book in library:\n",
    "        if title.lower() in book[\"title\"].lower():\n",
    "            print(book)\n",
    "            found = True\n",
    "    if not found:\n",
    "        print(\"No books found with that title.\")\n",
    "\n",
    "def view_all_books():\n",
    "    if not library:\n",
    "        print(\"No books in library.\")\n",
    "    else:\n",
    "        for idx, book in enumerate(library, start=1):\n",
    "            print(f\"{idx}. {book}\")\n",
    "\n",
    "def show_statistics():\n",
    "    total = len(library)\n",
    "    read_books = sum(1 for book in library if book[\"read\"])\n",
    "    unread_books = total - read_books\n",
    "    print(f\"Total books: {total}\")\n",
    "    print(f\"Books read: {read_books}\")\n",
    "    print(f\"Books unread: {unread_books}\")\n",
    "\n",
    "def save_library():\n",
    "    with open(\"library.txt\", \"w\") as file:\n",
    "        json.dump(library, file)\n",
    "    print(\"Library saved to file.\")\n",
    "\n",
    "def load_library():\n",
    "    global library\n",
    "    try:\n",
    "        with open(\"library.txt\", \"r\") as file:\n",
    "            library = json.load(file)\n",
    "        print(\"Library loaded from file.\")\n",
    "    except FileNotFoundError:\n",
    "        print(\"No saved library found.\")\n",
    "\n",
    "while True:\n",
    "    show_menu()\n",
    "    choice = input(\"Enter your choice (1-8): \")\n",
    "\n",
    "    if choice == \"1\":\n",
    "        add_book()\n",
    "    elif choice == \"2\":\n",
    "        remove_book()\n",
    "    elif choice == \"3\":\n",
    "        search_book()\n",
    "    elif choice == \"4\":\n",
    "        view_all_books()\n",
    "    elif choice == \"5\":\n",
    "        show_statistics()\n",
    "    elif choice == \"6\":\n",
    "        save_library()\n",
    "    elif choice == \"7\":\n",
    "        load_library()\n",
    "    elif choice == \"8\":\n",
    "        print(\"Goodbye!\")\n",
    "        break\n",
    "    else:\n",
    "        print(\"Invalid choice. Please try again.\")"
   ]
  },
  {
   "cell_type": "code",
   "execution_count": null,
   "id": "7f5b4e1c-9505-4adb-983b-6a43d25e8996",
   "metadata": {},
   "outputs": [],
   "source": []
  }
 ],
 "metadata": {
  "kernelspec": {
   "display_name": "Python 3 (ipykernel)",
   "language": "python",
   "name": "python3"
  },
  "language_info": {
   "codemirror_mode": {
    "name": "ipython",
    "version": 3
   },
   "file_extension": ".py",
   "mimetype": "text/x-python",
   "name": "python",
   "nbconvert_exporter": "python",
   "pygments_lexer": "ipython3",
   "version": "3.12.7"
  }
 },
 "nbformat": 4,
 "nbformat_minor": 5
}
